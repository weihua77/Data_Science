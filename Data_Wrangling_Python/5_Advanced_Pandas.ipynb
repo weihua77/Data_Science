{
 "cells": [
  {
   "cell_type": "code",
   "execution_count": 1,
   "metadata": {},
   "outputs": [],
   "source": [
    "import numpy as np\n",
    "import pandas as pd\n",
    "import seaborn as sns\n",
    "\n",
    "# for display\n",
    "from IPython.core.interactiveshell import InteractiveShell\n",
    "InteractiveShell.ast_node_interactivity = \"all\"  #default 'last_expr'"
   ]
  },
  {
   "cell_type": "markdown",
   "metadata": {},
   "source": [
    "# <a id='0'>Advanced Pandas\n",
    "\n",
    "- <a href='#c'>Categorical Type in Pandas\n",
    "- <a href='#g'>Group Transform: Unwrapped GroupBy\n",
    "- <a href='#m'>Method Chaining\n",
    "- <a href='#ci'>Avoid Chained Indexing"
   ]
  },
  {
   "cell_type": "markdown",
   "metadata": {},
   "source": [
    "## Categorical Type in Pandas\n",
    "Why should I convert my string-type column to Pandas categorical type?\n",
    "#### Pros:\n",
    "For the 10,000 rows of data below, switching to Categorical data type results in <br> \n",
    "- 30% less memory usage\n",
    "- 5 times faster computational speed for the tested calculation below.\n",
    "\n",
    "The cost is a one-time conversion to the categorical type, which is usually negligible."
   ]
  },
  {
   "cell_type": "code",
   "execution_count": 110,
   "metadata": {},
   "outputs": [
    {
     "data": {
      "text/html": [
       "<div>\n",
       "<style scoped>\n",
       "    .dataframe tbody tr th:only-of-type {\n",
       "        vertical-align: middle;\n",
       "    }\n",
       "\n",
       "    .dataframe tbody tr th {\n",
       "        vertical-align: top;\n",
       "    }\n",
       "\n",
       "    .dataframe thead th {\n",
       "        text-align: right;\n",
       "    }\n",
       "</style>\n",
       "<table border=\"1\" class=\"dataframe\">\n",
       "  <thead>\n",
       "    <tr style=\"text-align: right;\">\n",
       "      <th></th>\n",
       "      <th>Basket_id</th>\n",
       "      <th>Fruit</th>\n",
       "      <th>Count</th>\n",
       "    </tr>\n",
       "  </thead>\n",
       "  <tbody>\n",
       "    <tr>\n",
       "      <th>0</th>\n",
       "      <td>0</td>\n",
       "      <td>apple</td>\n",
       "      <td>14</td>\n",
       "    </tr>\n",
       "    <tr>\n",
       "      <th>1</th>\n",
       "      <td>1</td>\n",
       "      <td>orange</td>\n",
       "      <td>7</td>\n",
       "    </tr>\n",
       "    <tr>\n",
       "      <th>2</th>\n",
       "      <td>2</td>\n",
       "      <td>apple</td>\n",
       "      <td>3</td>\n",
       "    </tr>\n",
       "  </tbody>\n",
       "</table>\n",
       "</div>"
      ],
      "text/plain": [
       "   Basket_id   Fruit  Count\n",
       "0          0   apple     14\n",
       "1          1  orange      7\n",
       "2          2   apple      3"
      ]
     },
     "execution_count": 110,
     "metadata": {},
     "output_type": "execute_result"
    }
   ],
   "source": [
    "fruits = ['apple', 'orange', 'apple', 'apple'] * 10000\n",
    "\n",
    "N = len(fruits)\n",
    "df = pd.DataFrame({'Fruit'    : fruits,\n",
    "                   'Basket_id': np.arange(N),\n",
    "                   'Count'    : np.random.randint(3, 15, size=N)\n",
    "                  },\n",
    "                  columns=['Basket_id', 'Fruit', 'Count'])\n",
    "df.head(3)"
   ]
  },
  {
   "cell_type": "code",
   "execution_count": 12,
   "metadata": {},
   "outputs": [
    {
     "name": "stdout",
     "output_type": "stream",
     "text": [
      "Without using Categorical data type:\n",
      "Memory usage:0.92 MB\n",
      "Access time for value counts:\n",
      "3.53 ms ± 71.8 µs per loop (mean ± std. dev. of 7 runs, 100 loops each)\n"
     ]
    }
   ],
   "source": [
    "print('Without using Categorical data type:')\n",
    "print('Memory usage:{:.2f} MB'.format(df.memory_usage().sum()/1024/1024))\n",
    "print('Access time for value counts:')\n",
    "%timeit df['Fruit'].value_counts()"
   ]
  },
  {
   "cell_type": "code",
   "execution_count": 112,
   "metadata": {},
   "outputs": [
    {
     "name": "stdout",
     "output_type": "stream",
     "text": [
      "CPU times: user 3.05 ms, sys: 839 µs, total: 3.89 ms\n",
      "Wall time: 3.02 ms\n"
     ]
    }
   ],
   "source": [
    "# conversion is not free, but just one-time cost\n",
    "%time df['Fruit'] = df['Fruit'].astype('category')"
   ]
  },
  {
   "cell_type": "code",
   "execution_count": 16,
   "metadata": {},
   "outputs": [
    {
     "name": "stdout",
     "output_type": "stream",
     "text": [
      "\n",
      "After using Categorical dtype:\n",
      "Memory usage:0.65 MB\n",
      "Access time for value counts:\n",
      "720 µs ± 11 µs per loop (mean ± std. dev. of 7 runs, 1000 loops each)\n"
     ]
    }
   ],
   "source": [
    "print('\\nAfter using Categorical dtype:')\n",
    "\n",
    "print('Memory usage:{:.2f} MB'.format(df.memory_usage().sum()/1024/1024))\n",
    "print('Access time for value counts:')\n",
    "%timeit df['Fruit'].value_counts()"
   ]
  },
  {
   "cell_type": "markdown",
   "metadata": {},
   "source": [
    "#### Access the content of a categorical column"
   ]
  },
  {
   "cell_type": "code",
   "execution_count": 37,
   "metadata": {
    "scrolled": true
   },
   "outputs": [
    {
     "data": {
      "text/plain": [
       "(pandas.core.arrays.categorical.Categorical,\n",
       " Index(['apple', 'orange'], dtype='object'))"
      ]
     },
     "execution_count": 37,
     "metadata": {},
     "output_type": "execute_result"
    },
    {
     "data": {
      "text/plain": [
       "array([0, 1, 0, ..., 1, 0, 0], dtype=int8)"
      ]
     },
     "execution_count": 37,
     "metadata": {},
     "output_type": "execute_result"
    }
   ],
   "source": [
    "c = df['fruit'].values\n",
    "type(c), c.categories\n",
    "c.codes"
   ]
  },
  {
   "cell_type": "markdown",
   "metadata": {},
   "source": [
    "## <a id='g'>Group Transforms: Unwrapped GroupBys\n",
    "\n",
    "A group tranform is very similar to a group apply (see 4_Grouping_and_Aggregation.ipynb in the current folder), except that it produces an object of the same shape as the input group. Therefore it's sometimes called the \"unwrapped\" groupbys.<br>\n",
    "As I will demonstrat below, you don't really need to use group transform if you are familiar with groupby object and how to \"unwrapp\" it to the input shape. However, group transform is useful since its name reminds us of a very common and useful data transformation. Thus I decided to present it here.\n",
    "\n",
    "<a href='#0'> Back to TOC"
   ]
  },
  {
   "cell_type": "markdown",
   "metadata": {},
   "source": [
    "### Example: A sales transaction data set."
   ]
  },
  {
   "cell_type": "code",
   "execution_count": 97,
   "metadata": {
    "scrolled": true
   },
   "outputs": [
    {
     "data": {
      "text/html": [
       "<div>\n",
       "<style scoped>\n",
       "    .dataframe tbody tr th:only-of-type {\n",
       "        vertical-align: middle;\n",
       "    }\n",
       "\n",
       "    .dataframe tbody tr th {\n",
       "        vertical-align: top;\n",
       "    }\n",
       "\n",
       "    .dataframe thead th {\n",
       "        text-align: right;\n",
       "    }\n",
       "</style>\n",
       "<table border=\"1\" class=\"dataframe\">\n",
       "  <thead>\n",
       "    <tr style=\"text-align: right;\">\n",
       "      <th></th>\n",
       "      <th>Order</th>\n",
       "      <th>SKU</th>\n",
       "      <th>Quantity</th>\n",
       "      <th>Sale_price</th>\n",
       "    </tr>\n",
       "  </thead>\n",
       "  <tbody>\n",
       "    <tr>\n",
       "      <th>0</th>\n",
       "      <td>10001</td>\n",
       "      <td>B1-20000</td>\n",
       "      <td>7</td>\n",
       "      <td>236</td>\n",
       "    </tr>\n",
       "    <tr>\n",
       "      <th>1</th>\n",
       "      <td>10001</td>\n",
       "      <td>S1-27722</td>\n",
       "      <td>11</td>\n",
       "      <td>232</td>\n",
       "    </tr>\n",
       "    <tr>\n",
       "      <th>2</th>\n",
       "      <td>10001</td>\n",
       "      <td>B1-86481</td>\n",
       "      <td>3</td>\n",
       "      <td>108</td>\n",
       "    </tr>\n",
       "    <tr>\n",
       "      <th>3</th>\n",
       "      <td>10005</td>\n",
       "      <td>S1-06532</td>\n",
       "      <td>48</td>\n",
       "      <td>2679</td>\n",
       "    </tr>\n",
       "    <tr>\n",
       "      <th>4</th>\n",
       "      <td>10005</td>\n",
       "      <td>S1-82801</td>\n",
       "      <td>21</td>\n",
       "      <td>286</td>\n",
       "    </tr>\n",
       "  </tbody>\n",
       "</table>\n",
       "</div>"
      ],
      "text/plain": [
       "   Order       SKU  Quantity  Sale_price\n",
       "0  10001  B1-20000         7         236\n",
       "1  10001  S1-27722        11         232\n",
       "2  10001  B1-86481         3         108\n",
       "3  10005  S1-06532        48        2679\n",
       "4  10005  S1-82801        21         286"
      ]
     },
     "execution_count": 97,
     "metadata": {},
     "output_type": "execute_result"
    }
   ],
   "source": [
    "df = pd.read_csv('examples/sales_transactions.csv')\n",
    "df.head()"
   ]
  },
  {
   "cell_type": "markdown",
   "metadata": {},
   "source": [
    "### Task: what percentage of the total sales does each SKU represent?”"
   ]
  },
  {
   "cell_type": "markdown",
   "metadata": {},
   "source": [
    "#### Warm up: Unwrap a groupby object"
   ]
  },
  {
   "cell_type": "code",
   "execution_count": 100,
   "metadata": {},
   "outputs": [
    {
     "data": {
      "text/html": [
       "<div>\n",
       "<style scoped>\n",
       "    .dataframe tbody tr th:only-of-type {\n",
       "        vertical-align: middle;\n",
       "    }\n",
       "\n",
       "    .dataframe tbody tr th {\n",
       "        vertical-align: top;\n",
       "    }\n",
       "\n",
       "    .dataframe thead th {\n",
       "        text-align: right;\n",
       "    }\n",
       "</style>\n",
       "<table border=\"1\" class=\"dataframe\">\n",
       "  <thead>\n",
       "    <tr style=\"text-align: right;\">\n",
       "      <th></th>\n",
       "      <th>Order</th>\n",
       "      <th>SKU</th>\n",
       "      <th>Quantity</th>\n",
       "      <th>Sale_price</th>\n",
       "      <th>Sales</th>\n",
       "    </tr>\n",
       "  </thead>\n",
       "  <tbody>\n",
       "    <tr>\n",
       "      <th>0</th>\n",
       "      <td>10001</td>\n",
       "      <td>B1-20000</td>\n",
       "      <td>7</td>\n",
       "      <td>236</td>\n",
       "      <td>1652</td>\n",
       "    </tr>\n",
       "    <tr>\n",
       "      <th>1</th>\n",
       "      <td>10001</td>\n",
       "      <td>S1-27722</td>\n",
       "      <td>11</td>\n",
       "      <td>232</td>\n",
       "      <td>2552</td>\n",
       "    </tr>\n",
       "    <tr>\n",
       "      <th>2</th>\n",
       "      <td>10001</td>\n",
       "      <td>B1-86481</td>\n",
       "      <td>3</td>\n",
       "      <td>108</td>\n",
       "      <td>324</td>\n",
       "    </tr>\n",
       "    <tr>\n",
       "      <th>3</th>\n",
       "      <td>10005</td>\n",
       "      <td>S1-06532</td>\n",
       "      <td>48</td>\n",
       "      <td>2679</td>\n",
       "      <td>128592</td>\n",
       "    </tr>\n",
       "    <tr>\n",
       "      <th>4</th>\n",
       "      <td>10005</td>\n",
       "      <td>S1-82801</td>\n",
       "      <td>21</td>\n",
       "      <td>286</td>\n",
       "      <td>6006</td>\n",
       "    </tr>\n",
       "  </tbody>\n",
       "</table>\n",
       "</div>"
      ],
      "text/plain": [
       "   Order       SKU  Quantity  Sale_price   Sales\n",
       "0  10001  B1-20000         7         236    1652\n",
       "1  10001  S1-27722        11         232    2552\n",
       "2  10001  B1-86481         3         108     324\n",
       "3  10005  S1-06532        48        2679  128592\n",
       "4  10005  S1-82801        21         286    6006"
      ]
     },
     "execution_count": 100,
     "metadata": {},
     "output_type": "execute_result"
    },
    {
     "data": {
      "text/plain": [
       "Order\n",
       "10001      4528\n",
       "10005    327803\n",
       "10006    110612\n",
       "Name: Sales, dtype: int64"
      ]
     },
     "execution_count": 100,
     "metadata": {},
     "output_type": "execute_result"
    },
    {
     "data": {
      "text/plain": [
       "Order\n",
       "10001      4528\n",
       "10001      4528\n",
       "10001      4528\n",
       "10005    327803\n",
       "10005    327803\n",
       "10005    327803\n",
       "10005    327803\n",
       "10005    327803\n",
       "10006    110612\n",
       "10006    110612\n",
       "10006    110612\n",
       "10006    110612\n",
       "Name: Sales, dtype: int64"
      ]
     },
     "execution_count": 100,
     "metadata": {},
     "output_type": "execute_result"
    }
   ],
   "source": [
    "df['Sales'] = df['Quantity'] * df['Sale_price']\n",
    "df.head()\n",
    "\n",
    "grb = df.groupby('Order')\n",
    "\n",
    "# groupby object\n",
    "grb['Sales'].sum()\n",
    "\n",
    "# unwrap it !\n",
    "grb['Sales'].sum()[df['Order']]"
   ]
  },
  {
   "cell_type": "markdown",
   "metadata": {},
   "source": [
    "#### Solution"
   ]
  },
  {
   "cell_type": "code",
   "execution_count": 109,
   "metadata": {},
   "outputs": [
    {
     "data": {
      "text/html": [
       "<div>\n",
       "<style scoped>\n",
       "    .dataframe tbody tr th:only-of-type {\n",
       "        vertical-align: middle;\n",
       "    }\n",
       "\n",
       "    .dataframe tbody tr th {\n",
       "        vertical-align: top;\n",
       "    }\n",
       "\n",
       "    .dataframe thead th {\n",
       "        text-align: right;\n",
       "    }\n",
       "</style>\n",
       "<table border=\"1\" class=\"dataframe\">\n",
       "  <thead>\n",
       "    <tr style=\"text-align: right;\">\n",
       "      <th></th>\n",
       "      <th>Order</th>\n",
       "      <th>SKU</th>\n",
       "      <th>Quantity</th>\n",
       "      <th>Sale_price</th>\n",
       "      <th>Sales</th>\n",
       "      <th>Total_sales</th>\n",
       "    </tr>\n",
       "  </thead>\n",
       "  <tbody>\n",
       "    <tr>\n",
       "      <th>0</th>\n",
       "      <td>10001</td>\n",
       "      <td>B1-20000</td>\n",
       "      <td>7</td>\n",
       "      <td>236</td>\n",
       "      <td>1652</td>\n",
       "      <td>4528</td>\n",
       "    </tr>\n",
       "    <tr>\n",
       "      <th>1</th>\n",
       "      <td>10001</td>\n",
       "      <td>S1-27722</td>\n",
       "      <td>11</td>\n",
       "      <td>232</td>\n",
       "      <td>2552</td>\n",
       "      <td>4528</td>\n",
       "    </tr>\n",
       "    <tr>\n",
       "      <th>2</th>\n",
       "      <td>10001</td>\n",
       "      <td>B1-86481</td>\n",
       "      <td>3</td>\n",
       "      <td>108</td>\n",
       "      <td>324</td>\n",
       "      <td>4528</td>\n",
       "    </tr>\n",
       "    <tr>\n",
       "      <th>3</th>\n",
       "      <td>10005</td>\n",
       "      <td>S1-06532</td>\n",
       "      <td>48</td>\n",
       "      <td>2679</td>\n",
       "      <td>128592</td>\n",
       "      <td>327803</td>\n",
       "    </tr>\n",
       "    <tr>\n",
       "      <th>4</th>\n",
       "      <td>10005</td>\n",
       "      <td>S1-82801</td>\n",
       "      <td>21</td>\n",
       "      <td>286</td>\n",
       "      <td>6006</td>\n",
       "      <td>327803</td>\n",
       "    </tr>\n",
       "  </tbody>\n",
       "</table>\n",
       "</div>"
      ],
      "text/plain": [
       "   Order       SKU  Quantity  Sale_price   Sales  Total_sales\n",
       "0  10001  B1-20000         7         236    1652         4528\n",
       "1  10001  S1-27722        11         232    2552         4528\n",
       "2  10001  B1-86481         3         108     324         4528\n",
       "3  10005  S1-06532        48        2679  128592       327803\n",
       "4  10005  S1-82801        21         286    6006       327803"
      ]
     },
     "execution_count": 109,
     "metadata": {},
     "output_type": "execute_result"
    },
    {
     "data": {
      "text/plain": [
       "0     3.65e-01\n",
       "1     5.64e-01\n",
       "2     7.16e-02\n",
       "3     3.92e-01\n",
       "4     1.83e-02\n",
       "5     2.29e-02\n",
       "6     4.66e-01\n",
       "7     1.00e-01\n",
       "8     8.86e-01\n",
       "9     1.08e-01\n",
       "10    5.89e-03\n",
       "11    6.51e-04\n",
       "dtype: float64"
      ]
     },
     "execution_count": 109,
     "metadata": {},
     "output_type": "execute_result"
    }
   ],
   "source": [
    "df['Sales'] = df['Quantity'] * df['Sale_price']\n",
    "\n",
    "# Solution 1: using unwrapping, without group transform\n",
    "df['Total_sales'] = df.groupby('Order')['Sales'].sum()[df['Order']].values\n",
    "# Solution 2: using group transform.\n",
    "df['Total_sales'] = df.groupby('Order')['Sales'].transform('sum')\n",
    "\n",
    "df.head()\n",
    "df['Sales']/ df['Total_sales']"
   ]
  },
  {
   "cell_type": "markdown",
   "metadata": {},
   "source": [
    "As you see above, if you are already comfortable with unwrapping a groupby object, you don't have to use group transform since both solutions are very elegant."
   ]
  },
  {
   "cell_type": "markdown",
   "metadata": {},
   "source": [
    "## <a id='m'> Method Chaining\n",
    "Method chaining Pros and Cons:\n",
    "- Pros: faster implementation, less temporary variables, better readibility if done right\n",
    "- Cons: debugging can be tricky, and may take more CPU time sometimes\n",
    "    \n",
    "<a href='#0'> Back to TOC    "
   ]
  },
  {
   "cell_type": "markdown",
   "metadata": {},
   "source": [
    "Some may complain that a long chain is hard to read, but let's watch a great example (adapted from Jeff Allen, RStudio) that demonstrates that a well-CHAINED story-telling style is much easier to understand than a NESTED function-calling style."
   ]
  },
  {
   "cell_type": "markdown",
   "metadata": {},
   "source": [
    "Chaining: \n",
    "\n",
    "jack_jill.pipe(went_up(\"hill\"))\n",
    "         .pipe(fetch(\"water\"))\n",
    "         .pipe(fell_down(\"jack\"))\n",
    "         .pipe(broke(\"crown\"))\n",
    "         .pipe(tumble_after(\"jill\"))\n",
    "\n",
    "Nested Function:\n",
    "tumble_after(\n",
    "    broke(\n",
    "        fell_down(\n",
    "            fetch(went_up(jack_jill, \"hill\"), \"water\"),\n",
    "            jack),\n",
    "        \"crown\"),\n",
    "    \"jill\"\n",
    ")\n",
    "\n",
    "The Cons for chaining is debugging, because the output is not direct. So each step needs to be checked sequentially as well before deployment. So apply it to less volatile situations."
   ]
  },
  {
   "cell_type": "markdown",
   "metadata": {},
   "source": [
    "Let's use the sales transaction data set above in the Group Transform section as a start."
   ]
  },
  {
   "cell_type": "code",
   "execution_count": 99,
   "metadata": {},
   "outputs": [
    {
     "data": {
      "text/html": [
       "<div>\n",
       "<style scoped>\n",
       "    .dataframe tbody tr th:only-of-type {\n",
       "        vertical-align: middle;\n",
       "    }\n",
       "\n",
       "    .dataframe tbody tr th {\n",
       "        vertical-align: top;\n",
       "    }\n",
       "\n",
       "    .dataframe thead th {\n",
       "        text-align: right;\n",
       "    }\n",
       "</style>\n",
       "<table border=\"1\" class=\"dataframe\">\n",
       "  <thead>\n",
       "    <tr style=\"text-align: right;\">\n",
       "      <th></th>\n",
       "      <th>Order</th>\n",
       "      <th>SKU</th>\n",
       "      <th>Quantity</th>\n",
       "      <th>Sale_price</th>\n",
       "    </tr>\n",
       "  </thead>\n",
       "  <tbody>\n",
       "    <tr>\n",
       "      <th>0</th>\n",
       "      <td>10001</td>\n",
       "      <td>B1-20000</td>\n",
       "      <td>7</td>\n",
       "      <td>236</td>\n",
       "    </tr>\n",
       "    <tr>\n",
       "      <th>1</th>\n",
       "      <td>10001</td>\n",
       "      <td>S1-27722</td>\n",
       "      <td>11</td>\n",
       "      <td>232</td>\n",
       "    </tr>\n",
       "    <tr>\n",
       "      <th>2</th>\n",
       "      <td>10001</td>\n",
       "      <td>B1-86481</td>\n",
       "      <td>3</td>\n",
       "      <td>108</td>\n",
       "    </tr>\n",
       "    <tr>\n",
       "      <th>3</th>\n",
       "      <td>10005</td>\n",
       "      <td>S1-06532</td>\n",
       "      <td>48</td>\n",
       "      <td>2679</td>\n",
       "    </tr>\n",
       "    <tr>\n",
       "      <th>4</th>\n",
       "      <td>10005</td>\n",
       "      <td>S1-82801</td>\n",
       "      <td>21</td>\n",
       "      <td>286</td>\n",
       "    </tr>\n",
       "  </tbody>\n",
       "</table>\n",
       "</div>"
      ],
      "text/plain": [
       "   Order       SKU  Quantity  Sale_price\n",
       "0  10001  B1-20000         7         236\n",
       "1  10001  S1-27722        11         232\n",
       "2  10001  B1-86481         3         108\n",
       "3  10005  S1-06532        48        2679\n",
       "4  10005  S1-82801        21         286"
      ]
     },
     "execution_count": 99,
     "metadata": {},
     "output_type": "execute_result"
    }
   ],
   "source": [
    "df = pd.read_csv('examples/sales_transactions.csv')\n",
    "df.head()"
   ]
  },
  {
   "cell_type": "markdown",
   "metadata": {},
   "source": [
    "### Task: what percentage of the total sales does each SKU represent?”"
   ]
  },
  {
   "cell_type": "markdown",
   "metadata": {},
   "source": [
    "#### Without Chaining"
   ]
  },
  {
   "cell_type": "code",
   "execution_count": 106,
   "metadata": {
    "collapsed": true
   },
   "outputs": [
    {
     "data": {
      "text/plain": [
       "0     3.65e-01\n",
       "1     5.64e-01\n",
       "2     7.16e-02\n",
       "3     3.92e-01\n",
       "4     1.83e-02\n",
       "5     2.29e-02\n",
       "6     4.66e-01\n",
       "7     1.00e-01\n",
       "8     8.86e-01\n",
       "9     1.08e-01\n",
       "10    5.89e-03\n",
       "11    6.51e-04\n",
       "Name: Sales, dtype: float64"
      ]
     },
     "execution_count": 106,
     "metadata": {},
     "output_type": "execute_result"
    }
   ],
   "source": [
    "df['Sales'] = df['Quantity'] * df['Sale_price']\n",
    "df['Sales']/ (df.groupby('Order')['Sales'].transform('sum'))"
   ]
  },
  {
   "cell_type": "markdown",
   "metadata": {},
   "source": [
    "#### Chaining using assign( ): one-liner"
   ]
  },
  {
   "cell_type": "code",
   "execution_count": 107,
   "metadata": {
    "collapsed": true
   },
   "outputs": [
    {
     "data": {
      "text/plain": [
       "0     3.65e-01\n",
       "1     5.64e-01\n",
       "2     7.16e-02\n",
       "3     3.92e-01\n",
       "4     1.83e-02\n",
       "5     2.29e-02\n",
       "6     4.66e-01\n",
       "7     1.00e-01\n",
       "8     8.86e-01\n",
       "9     1.08e-01\n",
       "10    5.89e-03\n",
       "11    6.51e-04\n",
       "dtype: float64"
      ]
     },
     "execution_count": 107,
     "metadata": {},
     "output_type": "execute_result"
    }
   ],
   "source": [
    "df['Quantity']*df['Sale_price'] / (df.assign(Sales=df['Quantity']*df['Sale_price'])\n",
    "                                   .groupby('Order')['Sales'].transform('sum'))"
   ]
  },
  {
   "cell_type": "markdown",
   "metadata": {},
   "source": [
    "Though we accomplished the goal of writing a one-liner above, it's not evident that chaining here has an advantage over the code without chaining. Well, this is just a warm up, to show the possibility of chaining using assign( ). Method chaining really SHINEs when we define our own versatile functions for real data sets. We will explore some examples below to really drive this point home."
   ]
  },
  {
   "cell_type": "markdown",
   "metadata": {},
   "source": [
    "### Using pipe( )\n",
    "Enable method chaining when user-defined functions are involved, very powerful!<br>\n",
    "I will use a subset of flight data extracted from Bureau of Transportation Statistics. Details of extracting the data from BTS can be found in Augspurger's notebook [here](https://github.com/TomAugspurger/effective-pandas/blob/master/modern_1_intro.ipynb). More detailed analysis can be found in his other notebook [here](https://github.com/TomAugspurger/effective-pandas/blob/master/modern_2_method_chaining.ipynb)."
   ]
  },
  {
   "cell_type": "code",
   "execution_count": 126,
   "metadata": {},
   "outputs": [],
   "source": [
    "def my_read(fp):\n",
    "    '''\n",
    "    Method Chaining\n",
    "    Warning: only a subset of operations are shown here for simplicity     \n",
    "    '''\n",
    "    df = (pd.read_csv(fp)\n",
    "            .rename(columns=str.lower)\n",
    "            .drop('unnamed: 32', axis=1)\n",
    "            .pipe(extract_city_name)            \n",
    "            .assign(fl_date =lambda x: pd.to_datetime(x['fl_date']),\n",
    "                    origin  =lambda x: pd.Categorical(x['origin']),\n",
    "                    dest    =lambda x: pd.Categorical(x['dest'])))\n",
    "    return df\n",
    "\n",
    "def extract_city_name(df):\n",
    "    '''\n",
    "    Chicago, IL -> Chicago\n",
    "    '''\n",
    "    cols = ['origin_city_name', 'dest_city_name']\n",
    "    city = df[cols].apply(lambda x: x.str.extract(\"(.*), \\w{2}\", expand=False))\n",
    "    df = df.copy()\n",
    "    df[['origin_city_name', 'dest_city_name']] = city\n",
    "    return df"
   ]
  },
  {
   "cell_type": "code",
   "execution_count": 127,
   "metadata": {
    "collapsed": true
   },
   "outputs": [
    {
     "name": "stdout",
     "output_type": "stream",
     "text": [
      "<class 'pandas.core.frame.DataFrame'>\n",
      "Int64Index: 4500 entries, 0 to 4499\n",
      "Data columns (total 32 columns):\n",
      "fl_date                  4500 non-null datetime64[ns]\n",
      "unique_carrier           4500 non-null object\n",
      "airline_id               4500 non-null int64\n",
      "tail_num                 4493 non-null object\n",
      "fl_num                   4500 non-null int64\n",
      "origin_airport_id        4500 non-null int64\n",
      "origin_airport_seq_id    4500 non-null int64\n",
      "origin_city_market_id    4500 non-null int64\n",
      "origin                   4500 non-null object\n",
      "origin_city_name         4500 non-null object\n",
      "dest_airport_id          4500 non-null int64\n",
      "dest_airport_seq_id      4500 non-null int64\n",
      "dest_city_market_id      4500 non-null int64\n",
      "dest                     4500 non-null category\n",
      "dest_city_name           4500 non-null object\n",
      "crs_dep_time             4500 non-null int64\n",
      "dep_time                 4418 non-null float64\n",
      "dep_delay                4418 non-null float64\n",
      "taxi_out                 4417 non-null float64\n",
      "wheels_off               4417 non-null float64\n",
      "wheels_on                4411 non-null float64\n",
      "taxi_in                  4411 non-null float64\n",
      "crs_arr_time             4500 non-null int64\n",
      "arr_time                 4411 non-null float64\n",
      "arr_delay                4399 non-null float64\n",
      "cancelled                4500 non-null float64\n",
      "cancellation_code        83 non-null object\n",
      "carrier_delay            1002 non-null float64\n",
      "weather_delay            1002 non-null float64\n",
      "nas_delay                1002 non-null float64\n",
      "security_delay           1002 non-null float64\n",
      "late_aircraft_delay      1002 non-null float64\n",
      "dtypes: category(1), datetime64[ns](1), float64(14), int64(10), object(6)\n",
      "memory usage: 1.1+ MB\n"
     ]
    }
   ],
   "source": [
    "import os\n",
    "output = 'examples/flights.h5'\n",
    "\n",
    "if not os.path.exists(output):\n",
    "    df = my_read('examples/flights_short.csv')\n",
    "    df.to_hdf(output, 'flights', format='table')\n",
    "else:\n",
    "    df = pd.read_hdf(output, 'flights', format='table')\n",
    "    \n",
    "df.info()"
   ]
  },
  {
   "cell_type": "markdown",
   "metadata": {},
   "source": [
    "## <a id='ci'>Avoid Chained Indexing\n",
    "You tried to assign some new values to part of a dataframe but just can't change those values and you are very frustrated and confused. It's very likely that you've fell victim to chained indexing. Tom Augspurger has a very detailed explannation [here](https://github.com/TomAugspurger/effective-pandas/blob/master/modern_1_intro.ipynb). I am just going to use his example here for demonstration.\n",
    "    \n",
    "<a href='#0'> Back to TOC"
   ]
  },
  {
   "cell_type": "code",
   "execution_count": 118,
   "metadata": {},
   "outputs": [
    {
     "data": {
      "text/html": [
       "<div>\n",
       "<style scoped>\n",
       "    .dataframe tbody tr th:only-of-type {\n",
       "        vertical-align: middle;\n",
       "    }\n",
       "\n",
       "    .dataframe tbody tr th {\n",
       "        vertical-align: top;\n",
       "    }\n",
       "\n",
       "    .dataframe thead th {\n",
       "        text-align: right;\n",
       "    }\n",
       "</style>\n",
       "<table border=\"1\" class=\"dataframe\">\n",
       "  <thead>\n",
       "    <tr style=\"text-align: right;\">\n",
       "      <th></th>\n",
       "      <th>a</th>\n",
       "      <th>b</th>\n",
       "    </tr>\n",
       "  </thead>\n",
       "  <tbody>\n",
       "    <tr>\n",
       "      <th>0</th>\n",
       "      <td>1</td>\n",
       "      <td>10</td>\n",
       "    </tr>\n",
       "    <tr>\n",
       "      <th>1</th>\n",
       "      <td>2</td>\n",
       "      <td>20</td>\n",
       "    </tr>\n",
       "    <tr>\n",
       "      <th>2</th>\n",
       "      <td>3</td>\n",
       "      <td>30</td>\n",
       "    </tr>\n",
       "    <tr>\n",
       "      <th>3</th>\n",
       "      <td>4</td>\n",
       "      <td>40</td>\n",
       "    </tr>\n",
       "  </tbody>\n",
       "</table>\n",
       "</div>"
      ],
      "text/plain": [
       "   a   b\n",
       "0  1  10\n",
       "1  2  20\n",
       "2  3  30\n",
       "3  4  40"
      ]
     },
     "execution_count": 118,
     "metadata": {},
     "output_type": "execute_result"
    }
   ],
   "source": [
    "f = pd.DataFrame({'a':[1,2,3,4,], 'b':[10,20,30,40,]})\n",
    "f"
   ]
  },
  {
   "cell_type": "markdown",
   "metadata": {},
   "source": [
    "### Task: reduce the values of column 'b' in the first two rows by 10 times."
   ]
  },
  {
   "cell_type": "code",
   "execution_count": 119,
   "metadata": {
    "scrolled": true
   },
   "outputs": [
    {
     "name": "stderr",
     "output_type": "stream",
     "text": [
      "/Users/William/anaconda3/lib/python3.7/site-packages/ipykernel_launcher.py:1: SettingWithCopyWarning: \n",
      "A value is trying to be set on a copy of a slice from a DataFrame.\n",
      "Try using .loc[row_indexer,col_indexer] = value instead\n",
      "\n",
      "See the caveats in the documentation: http://pandas.pydata.org/pandas-docs/stable/indexing.html#indexing-view-versus-copy\n",
      "  \"\"\"Entry point for launching an IPython kernel.\n"
     ]
    },
    {
     "data": {
      "text/html": [
       "<div>\n",
       "<style scoped>\n",
       "    .dataframe tbody tr th:only-of-type {\n",
       "        vertical-align: middle;\n",
       "    }\n",
       "\n",
       "    .dataframe tbody tr th {\n",
       "        vertical-align: top;\n",
       "    }\n",
       "\n",
       "    .dataframe thead th {\n",
       "        text-align: right;\n",
       "    }\n",
       "</style>\n",
       "<table border=\"1\" class=\"dataframe\">\n",
       "  <thead>\n",
       "    <tr style=\"text-align: right;\">\n",
       "      <th></th>\n",
       "      <th>a</th>\n",
       "      <th>b</th>\n",
       "    </tr>\n",
       "  </thead>\n",
       "  <tbody>\n",
       "    <tr>\n",
       "      <th>0</th>\n",
       "      <td>1</td>\n",
       "      <td>10</td>\n",
       "    </tr>\n",
       "    <tr>\n",
       "      <th>1</th>\n",
       "      <td>2</td>\n",
       "      <td>20</td>\n",
       "    </tr>\n",
       "    <tr>\n",
       "      <th>2</th>\n",
       "      <td>3</td>\n",
       "      <td>30</td>\n",
       "    </tr>\n",
       "    <tr>\n",
       "      <th>3</th>\n",
       "      <td>4</td>\n",
       "      <td>40</td>\n",
       "    </tr>\n",
       "  </tbody>\n",
       "</table>\n",
       "</div>"
      ],
      "text/plain": [
       "   a   b\n",
       "0  1  10\n",
       "1  2  20\n",
       "2  3  30\n",
       "3  4  40"
      ]
     },
     "execution_count": 119,
     "metadata": {},
     "output_type": "execute_result"
    }
   ],
   "source": [
    "f[f['a'] <= 2]['b'] = f[f['a'] <= 2 ]['b'] / 10\n",
    "f"
   ]
  },
  {
   "cell_type": "markdown",
   "metadata": {},
   "source": [
    "Not only there is a warning, but also the value didn't change. Let's do it the right way first and then I will explain."
   ]
  },
  {
   "cell_type": "code",
   "execution_count": 120,
   "metadata": {
    "scrolled": true
   },
   "outputs": [
    {
     "data": {
      "text/html": [
       "<div>\n",
       "<style scoped>\n",
       "    .dataframe tbody tr th:only-of-type {\n",
       "        vertical-align: middle;\n",
       "    }\n",
       "\n",
       "    .dataframe tbody tr th {\n",
       "        vertical-align: top;\n",
       "    }\n",
       "\n",
       "    .dataframe thead th {\n",
       "        text-align: right;\n",
       "    }\n",
       "</style>\n",
       "<table border=\"1\" class=\"dataframe\">\n",
       "  <thead>\n",
       "    <tr style=\"text-align: right;\">\n",
       "      <th></th>\n",
       "      <th>a</th>\n",
       "      <th>b</th>\n",
       "    </tr>\n",
       "  </thead>\n",
       "  <tbody>\n",
       "    <tr>\n",
       "      <th>0</th>\n",
       "      <td>1</td>\n",
       "      <td>1.0</td>\n",
       "    </tr>\n",
       "    <tr>\n",
       "      <th>1</th>\n",
       "      <td>2</td>\n",
       "      <td>2.0</td>\n",
       "    </tr>\n",
       "    <tr>\n",
       "      <th>2</th>\n",
       "      <td>3</td>\n",
       "      <td>30.0</td>\n",
       "    </tr>\n",
       "    <tr>\n",
       "      <th>3</th>\n",
       "      <td>4</td>\n",
       "      <td>40.0</td>\n",
       "    </tr>\n",
       "  </tbody>\n",
       "</table>\n",
       "</div>"
      ],
      "text/plain": [
       "   a     b\n",
       "0  1   1.0\n",
       "1  2   2.0\n",
       "2  3  30.0\n",
       "3  4  40.0"
      ]
     },
     "execution_count": 120,
     "metadata": {},
     "output_type": "execute_result"
    }
   ],
   "source": [
    "f.loc[ f['a'] <= 2, 'b'] = f.loc[ f['a'] <= 2, 'b'] / 10\n",
    "f"
   ]
  },
  {
   "cell_type": "markdown",
   "metadata": {},
   "source": [
    "The right way avoided using chained indexing like this: f[ i ][ j ], but used the form of f[ i, j ]. This seemingly small change makes a big difference if you attempt to assign values to f. Basically, you were assigning values to a different copy of the dataframe if you used chained indexing, that's why the original f is unchanged. See Augspurger's notebook for more information."
   ]
  }
 ],
 "metadata": {
  "kernelspec": {
   "display_name": "Python 3",
   "language": "python",
   "name": "python3"
  },
  "language_info": {
   "codemirror_mode": {
    "name": "ipython",
    "version": 3
   },
   "file_extension": ".py",
   "mimetype": "text/x-python",
   "name": "python",
   "nbconvert_exporter": "python",
   "pygments_lexer": "ipython3",
   "version": "3.7.2"
  }
 },
 "nbformat": 4,
 "nbformat_minor": 1
}
