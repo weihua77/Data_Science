{
 "cells": [
  {
   "cell_type": "code",
   "execution_count": 78,
   "metadata": {},
   "outputs": [],
   "source": [
    "import numpy as np\n",
    "import pandas as pd\n",
    "import seaborn as sns\n",
    "\n",
    "# for display\n",
    "from IPython.core.interactiveshell import InteractiveShell\n",
    "InteractiveShell.ast_node_interactivity = \"all\"  #default 'last_expr'"
   ]
  },
  {
   "cell_type": "markdown",
   "metadata": {},
   "source": [
    "## Categorical Type in Pandas\n",
    "Pros: less memory usage and faster access speed."
   ]
  },
  {
   "cell_type": "code",
   "execution_count": 38,
   "metadata": {},
   "outputs": [
    {
     "data": {
      "text/html": [
       "<div>\n",
       "<style scoped>\n",
       "    .dataframe tbody tr th:only-of-type {\n",
       "        vertical-align: middle;\n",
       "    }\n",
       "\n",
       "    .dataframe tbody tr th {\n",
       "        vertical-align: top;\n",
       "    }\n",
       "\n",
       "    .dataframe thead th {\n",
       "        text-align: right;\n",
       "    }\n",
       "</style>\n",
       "<table border=\"1\" class=\"dataframe\">\n",
       "  <thead>\n",
       "    <tr style=\"text-align: right;\">\n",
       "      <th></th>\n",
       "      <th>basket_id</th>\n",
       "      <th>fruit</th>\n",
       "      <th>count</th>\n",
       "    </tr>\n",
       "  </thead>\n",
       "  <tbody>\n",
       "    <tr>\n",
       "      <th>0</th>\n",
       "      <td>0</td>\n",
       "      <td>apple</td>\n",
       "      <td>11</td>\n",
       "    </tr>\n",
       "    <tr>\n",
       "      <th>1</th>\n",
       "      <td>1</td>\n",
       "      <td>orange</td>\n",
       "      <td>14</td>\n",
       "    </tr>\n",
       "    <tr>\n",
       "      <th>2</th>\n",
       "      <td>2</td>\n",
       "      <td>apple</td>\n",
       "      <td>6</td>\n",
       "    </tr>\n",
       "  </tbody>\n",
       "</table>\n",
       "</div>"
      ],
      "text/plain": [
       "   basket_id   fruit  count\n",
       "0          0   apple     11\n",
       "1          1  orange     14\n",
       "2          2   apple      6"
      ]
     },
     "execution_count": 38,
     "metadata": {},
     "output_type": "execute_result"
    }
   ],
   "source": [
    "fruits = ['apple', 'orange', 'apple', 'apple'] * 10000\n",
    "\n",
    "N = len(fruits)\n",
    "df = pd.DataFrame({'fruit'    : fruits,\n",
    "                   'basket_id': np.arange(N),\n",
    "                   'count'    : np.random.randint(3, 15, size=N)\n",
    "                  },\n",
    "                  columns=['basket_id', 'fruit', 'count', ])\n",
    "df.head(3)"
   ]
  },
  {
   "cell_type": "markdown",
   "metadata": {},
   "source": [
    "#### For 10,000 rows of data, switching to Categorical data type results in <br> \n",
    "- 30% less memory usage\n",
    "- 5 times faster computational speed for the given calculation."
   ]
  },
  {
   "cell_type": "code",
   "execution_count": 39,
   "metadata": {},
   "outputs": [
    {
     "name": "stdout",
     "output_type": "stream",
     "text": [
      "Without using Categorical data type:\n",
      "Memory usage: 960080\n",
      "Access time for value counts:\n",
      "3.47 ms ± 82.8 µs per loop (mean ± std. dev. of 7 runs, 100 loops each)\n"
     ]
    }
   ],
   "source": [
    "print('Without using Categorical data type:')\n",
    "print('Memory usage:', df.memory_usage().sum())\n",
    "print('Access time for value counts:')\n",
    "%timeit df['fruit'].value_counts()"
   ]
  },
  {
   "cell_type": "code",
   "execution_count": 40,
   "metadata": {},
   "outputs": [
    {
     "name": "stdout",
     "output_type": "stream",
     "text": [
      "CPU times: user 3.07 ms, sys: 774 µs, total: 3.84 ms\n",
      "Wall time: 2.98 ms\n"
     ]
    }
   ],
   "source": [
    "# conversion is not free, but just one-time cost\n",
    "%time df['fruit'] = df['fruit'].astype('category')"
   ]
  },
  {
   "cell_type": "code",
   "execution_count": 41,
   "metadata": {},
   "outputs": [
    {
     "name": "stdout",
     "output_type": "stream",
     "text": [
      "\n",
      "After using Categorical dtype:\n",
      "Memory usage: 680176\n",
      "Access time for value counts:\n",
      "707 µs ± 14.1 µs per loop (mean ± std. dev. of 7 runs, 1000 loops each)\n"
     ]
    }
   ],
   "source": [
    "print('\\nAfter using Categorical dtype:')\n",
    "\n",
    "print('Memory usage:',df.memory_usage().sum())\n",
    "print('Access time for value counts:')\n",
    "%timeit df['fruit'].value_counts()"
   ]
  },
  {
   "cell_type": "markdown",
   "metadata": {},
   "source": [
    "#### Access the content of a categorical column"
   ]
  },
  {
   "cell_type": "code",
   "execution_count": 37,
   "metadata": {
    "scrolled": true
   },
   "outputs": [
    {
     "data": {
      "text/plain": [
       "(pandas.core.arrays.categorical.Categorical,\n",
       " Index(['apple', 'orange'], dtype='object'))"
      ]
     },
     "execution_count": 37,
     "metadata": {},
     "output_type": "execute_result"
    },
    {
     "data": {
      "text/plain": [
       "array([0, 1, 0, ..., 1, 0, 0], dtype=int8)"
      ]
     },
     "execution_count": 37,
     "metadata": {},
     "output_type": "execute_result"
    }
   ],
   "source": [
    "c = df['fruit'].values\n",
    "type(c), c.categories\n",
    "c.codes"
   ]
  },
  {
   "cell_type": "markdown",
   "metadata": {},
   "source": [
    "## Advanced GroupBy\n",
    "### Group Transforms \n",
    "#### Task: de-center the data using group means instead of using overall means"
   ]
  },
  {
   "cell_type": "code",
   "execution_count": 100,
   "metadata": {},
   "outputs": [
    {
     "data": {
      "text/html": [
       "<div>\n",
       "<style scoped>\n",
       "    .dataframe tbody tr th:only-of-type {\n",
       "        vertical-align: middle;\n",
       "    }\n",
       "\n",
       "    .dataframe tbody tr th {\n",
       "        vertical-align: top;\n",
       "    }\n",
       "\n",
       "    .dataframe thead th {\n",
       "        text-align: right;\n",
       "    }\n",
       "</style>\n",
       "<table border=\"1\" class=\"dataframe\">\n",
       "  <thead>\n",
       "    <tr style=\"text-align: right;\">\n",
       "      <th></th>\n",
       "      <th>year</th>\n",
       "      <th>month</th>\n",
       "      <th>passengers</th>\n",
       "    </tr>\n",
       "  </thead>\n",
       "  <tbody>\n",
       "    <tr>\n",
       "      <th>0</th>\n",
       "      <td>1949</td>\n",
       "      <td>January</td>\n",
       "      <td>112</td>\n",
       "    </tr>\n",
       "    <tr>\n",
       "      <th>1</th>\n",
       "      <td>1949</td>\n",
       "      <td>February</td>\n",
       "      <td>118</td>\n",
       "    </tr>\n",
       "    <tr>\n",
       "      <th>2</th>\n",
       "      <td>1949</td>\n",
       "      <td>March</td>\n",
       "      <td>132</td>\n",
       "    </tr>\n",
       "    <tr>\n",
       "      <th>3</th>\n",
       "      <td>1949</td>\n",
       "      <td>April</td>\n",
       "      <td>129</td>\n",
       "    </tr>\n",
       "    <tr>\n",
       "      <th>4</th>\n",
       "      <td>1949</td>\n",
       "      <td>May</td>\n",
       "      <td>121</td>\n",
       "    </tr>\n",
       "  </tbody>\n",
       "</table>\n",
       "</div>"
      ],
      "text/plain": [
       "   year     month  passengers\n",
       "0  1949   January         112\n",
       "1  1949  February         118\n",
       "2  1949     March         132\n",
       "3  1949     April         129\n",
       "4  1949       May         121"
      ]
     },
     "execution_count": 100,
     "metadata": {},
     "output_type": "execute_result"
    }
   ],
   "source": [
    "df = sns.load_dataset('flights')\n",
    "df.head()"
   ]
  },
  {
   "cell_type": "markdown",
   "metadata": {},
   "source": [
    "##### de-center column passenges by overall mean"
   ]
  },
  {
   "cell_type": "code",
   "execution_count": 102,
   "metadata": {},
   "outputs": [
    {
     "data": {
      "text/plain": [
       "0   -168.298611\n",
       "1   -162.298611\n",
       "2   -148.298611\n",
       "Name: passengers, dtype: float64"
      ]
     },
     "execution_count": 102,
     "metadata": {},
     "output_type": "execute_result"
    }
   ],
   "source": [
    "(df['passengers'] - df['passengers'].mean()).head(3)"
   ]
  },
  {
   "cell_type": "markdown",
   "metadata": {},
   "source": [
    "##### de-center column passenges using GROUP means by Month"
   ]
  },
  {
   "cell_type": "code",
   "execution_count": 104,
   "metadata": {},
   "outputs": [
    {
     "data": {
      "text/plain": [
       "0   -129.750000\n",
       "1   -117.000000\n",
       "2   -138.166667\n",
       "Name: passengers, dtype: float64"
      ]
     },
     "execution_count": 104,
     "metadata": {},
     "output_type": "execute_result"
    }
   ],
   "source": [
    "(df['passengers']- df.groupby('month')['passengers'].transform('mean')).head(3)"
   ]
  },
  {
   "cell_type": "code",
   "execution_count": null,
   "metadata": {},
   "outputs": [],
   "source": []
  },
  {
   "cell_type": "markdown",
   "metadata": {},
   "source": [
    "## Method Chaining \n",
    "### Using assign( )\n",
    "Method chaining Pros and Cons:\n",
    "    - Pros: fast implementation, less temporary variables\n",
    "    - Cons: lower readibility, may take more CPU time"
   ]
  },
  {
   "cell_type": "code",
   "execution_count": 77,
   "metadata": {
    "collapsed": true
   },
   "outputs": [
    {
     "data": {
      "text/plain": [
       "month\n",
       "January     -38.548611\n",
       "February    -45.298611\n",
       "March       -10.131944\n",
       "April       -13.215278\n",
       "May          -8.465278\n",
       "June         31.368056\n",
       "July         71.034722\n",
       "August       70.784722\n",
       "September    22.118056\n",
       "October     -13.715278\n",
       "November    -47.465278\n",
       "December    -18.465278\n",
       "Name: centered, dtype: float64"
      ]
     },
     "execution_count": 77,
     "metadata": {},
     "output_type": "execute_result"
    },
    {
     "data": {
      "text/plain": [
       "month\n",
       "January     -38.548611\n",
       "February    -45.298611\n",
       "March       -10.131944\n",
       "April       -13.215278\n",
       "May          -8.465278\n",
       "June         31.368056\n",
       "July         71.034722\n",
       "August       70.784722\n",
       "September    22.118056\n",
       "October     -13.715278\n",
       "November    -47.465278\n",
       "December    -18.465278\n",
       "Name: centered, dtype: float64"
      ]
     },
     "execution_count": 77,
     "metadata": {},
     "output_type": "execute_result"
    }
   ],
   "source": [
    "import seaborn as sns\n",
    "\n",
    "# NO chaining\n",
    "df = sns.load_dataset('flights')\n",
    "df2 = df.copy()\n",
    "df2['centered'] = df2['passengers'] - df2['passengers'].mean()\n",
    "result = df2.groupby('month')['centered'].mean()\n",
    "result\n",
    "\n",
    "# WITH chaining\n",
    "df2.assign(centered=df2['passengers'] - df2['passengers'].mean())\\\n",
    "    .groupby('month')['centered'].mean()"
   ]
  },
  {
   "cell_type": "markdown",
   "metadata": {},
   "source": [
    "### Using pipe( )\n",
    "Enable method chaining when user-defined functions are involved, very powerful!"
   ]
  },
  {
   "cell_type": "code",
   "execution_count": null,
   "metadata": {},
   "outputs": [],
   "source": [
    "def my_read(csv_file:\n",
    "    df = (pd.read_csv(csv_file)\n",
    "            .rename(columns=str.lower)            \n",
    "            .pipe(my_func_1)\n",
    "            .pipe(my_func_2)\n",
    "            .assign(col1=lambda x: pd.to_datetime(x[col1]),\n",
    "                    col2=lambda x: pd.Categorical(x[col2]))\n",
    "         )\n",
    "    return df\n",
    "\n",
    "def my_func_1(df):\n",
    "    '''\n",
    "    does some cleaning to df\n",
    "    '''    \n",
    "    return df\n",
    "\n",
    "def my_func_2(df):\n",
    "    '''\n",
    "    does some transformation to df\n",
    "    '''    \n",
    "    return df\n",
    "\n",
    "output = 'examples/flights.h5'\n",
    "\n",
    "if not os.path.exists(output):\n",
    "    df = my_read(\"examples/flights_raw.csv\")\n",
    "    df.to_hdf(output, 'flights', format='table', data_columns=True)\n",
    "else:\n",
    "    df = pd.read_hdf(output, 'flights')\n",
    "\n",
    "df.info()"
   ]
  },
  {
   "cell_type": "markdown",
   "metadata": {},
   "source": [
    "Some may complain that a long chain is hard to read, but let's watch a great example (adapted from Jeff Allen, RStudio) that demonstrates that a well-CHAINED story-telling style is much easier to understand than a NESTED function-calling style."
   ]
  },
  {
   "cell_type": "code",
   "execution_count": null,
   "metadata": {},
   "outputs": [],
   "source": [
    "Chaining: \n",
    "\n",
    "jack_jill.pipe(went_up(\"hill\"))\n",
    "         .pipe(fetch(\"water\"))\n",
    "         .pipe(fell_down(\"jack\"))\n",
    "         .pipe(broke(\"crown\"))\n",
    "         .pipe(tumble_after(\"jill\"))\n",
    "\n",
    "Nested Function:\n",
    "tumble_after(\n",
    "    broke(\n",
    "        fell_down(\n",
    "            fetch(went_up(jack_jill, \"hill\"), \"water\"),\n",
    "            jack),\n",
    "        \"crown\"),\n",
    "    \"jill\"\n",
    ")"
   ]
  },
  {
   "cell_type": "markdown",
   "metadata": {},
   "source": [
    "The Cons for chaining is debugging, because the output is not direct. So each step needs to be checked sequentially as well before deployment."
   ]
  }
 ],
 "metadata": {
  "kernelspec": {
   "display_name": "Python 3",
   "language": "python",
   "name": "python3"
  },
  "language_info": {
   "codemirror_mode": {
    "name": "ipython",
    "version": 3
   },
   "file_extension": ".py",
   "mimetype": "text/x-python",
   "name": "python",
   "nbconvert_exporter": "python",
   "pygments_lexer": "ipython3",
   "version": "3.7.2"
  }
 },
 "nbformat": 4,
 "nbformat_minor": 1
}
